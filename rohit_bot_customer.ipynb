{
 "cells": [
  {
   "cell_type": "code",
   "execution_count": 1,
   "id": "58c9fe55-a96e-4e5a-b422-0f3426f415eb",
   "metadata": {},
   "outputs": [],
   "source": [
    "import nltk\n",
    "import numpy as np\n",
    "import random\n",
    "import string"
   ]
  },
  {
   "cell_type": "code",
   "execution_count": 6,
   "id": "55dfd461-8815-473b-8ffd-60361e2419f7",
   "metadata": {},
   "outputs": [],
   "source": [
    "f= open('data.txt')\n",
    "doc = f.read()"
   ]
  },
  {
   "cell_type": "code",
   "execution_count": 7,
   "id": "9ac678f7-b5f7-4077-aeb5-c31b099156c3",
   "metadata": {},
   "outputs": [
    {
     "name": "stderr",
     "output_type": "stream",
     "text": [
      "[nltk_data] Downloading package punkt to\n",
      "[nltk_data]     C:\\Users\\hp\\AppData\\Roaming\\nltk_data...\n",
      "[nltk_data]   Package punkt is already up-to-date!\n",
      "[nltk_data] Downloading package wordnet to\n",
      "[nltk_data]     C:\\Users\\hp\\AppData\\Roaming\\nltk_data...\n",
      "[nltk_data]   Package wordnet is already up-to-date!\n",
      "[nltk_data] Downloading package omw-1.4 to\n",
      "[nltk_data]     C:\\Users\\hp\\AppData\\Roaming\\nltk_data...\n",
      "[nltk_data]   Package omw-1.4 is already up-to-date!\n"
     ]
    }
   ],
   "source": [
    "doc = doc.lower()\n",
    "nltk.download('punkt')\n",
    "nltk.download('wordnet')\n",
    "nltk.download('omw-1.4')\n",
    "sentence_tokens = nltk.sent_tokenize(doc)\n",
    "word_tokens = nltk.word_tokenize(doc)"
   ]
  },
  {
   "cell_type": "code",
   "execution_count": 8,
   "id": "60ba9a54-0b3d-4eed-8e55-c1d0e9732b74",
   "metadata": {},
   "outputs": [
    {
     "data": {
      "text/plain": [
       "'to file a claim, please visit our website and fill out the claim form. you can also call our customer service for assistance.\\nyou can check the status of your claim by logging into your account on our website or by calling our customer service.\\nthe required documents to file a claim include your policy number, a completed claim form, and any relevant supporting documents such as medical reports or police reports.\\nthe processing time for a claim varies depending on the complexity of the case. generally, it takes about 7-10 business days.\\nyes, you can file a claim online by visiting our website and filling out the claim form.\\nour customer service number is 1-800-123-4567. we are available 24/7 to assist you.\\nyou can update your contact information by logging into your account on our website or by calling our customer service.\\nto renew your policy, please log into your account on our website and follow the renewal instructions. you can also call our customer service for assistance.\\nyes, you can cancel your policy by contacting our customer service. please note that cancellation fees may apply.\\nthe grace period for premium payment is 30 days from the due date. during this period, your policy remains active.\\nyou can make a premium payment online through our website, by phone, or by mailing a check to our office.\\ncoverage details vary depending on your policy. please refer to your policy documents or contact our customer service for specific coverage information.\\nyou can download a copy of your policy documents by logging into your account on our website or by contacting our customer service.\\nthe deductible amount varies depending on your policy. please refer to your policy documents or contact our customer service for specific information.\\nyes, you can add a beneficiary to your policy by logging into your account on our website or by contacting our customer service.\\nto change your beneficiary, please log into your account on our website and update the beneficiary information. you can also contact our customer service for assistance.\\nyou can get a quote for a new policy by visiting our website and filling out the quote form. you can also call our customer service for assistance.\\nterm life insurance provides coverage for a specific period, while whole life insurance provides coverage for your entire life. whole life insurance also has a cash value component.\\nyes, you can convert your term policy to a whole life policy. please contact our customer service for more information on the conversion process.\\nthe cash value of your whole life policy depends on the premiums paid and the duration of the policy. please refer to your policy documents or contact our customer service for specific information.\\nyou can access the cash value of your policy by taking a policy loan or by making a withdrawal. please contact our customer service for more information.\\nthe surrender value of your policy is the amount you will receive if you cancel your policy before it matures. please refer to your policy documents or contact our customer service for specific information.\\nyes, you can reinstate a lapsed policy within a certain period by paying the overdue premiums and providing evidence of insurability. please contact our customer service for more information.\\nto file a complaint, please contact our customer service and provide details of your complaint. we will investigate the matter and get back to you as soon as possible.\\nyou can contact the claims department by calling our customer service number or by emailing claims@insurancecompany.com.\\nthe waiting period for your policy varies depending on the type of coverage. please refer to your policy documents or contact our customer service for specific information.\\nyes, you can change your payment method by logging into your account on our website or by contacting our customer service.\\nto update your policy information, please log into your account on our website and make the necessary changes. you can also contact our customer service for assistance.\\nto request a refund for your premium payment, please contact our customer service. refunds are subject to the terms and conditions of your policy.\\nthe policy term for your insurance varies depending on the type of coverage. please refer to your policy documents or contact our customer service for specific information.\\nyes, you can transfer your policy to another person by completing a policy transfer form. please contact our customer service for more information.\\nto add a rider to your policy, please log into your account on our website and select the desired rider. you can also contact our customer service for assistance.\\nyou may be eligible for a discount on your premium based on factors such as your age, health, and policy type. please contact our customer service for more information.\\nyour policy number can be found on your policy documents or by logging into your account on our website. you can also contact our customer service for assistance.\\nyes, you can request a duplicate copy of your policy by logging into your account on our website or by contacting our customer service.\\nto change your policy coverage, please log into your account on our website and update the coverage details. you can also contact our customer service for assistance.\\nyou can get a list of network hospitals by visiting our website or by contacting our customer service.\\nto file a health insurance claim, please visit our website and fill out the claim form. you can also call our customer service for assistance.\\ncoverage for pre-existing conditions varies depending on your policy. please refer to your policy documents or contact our customer service for specific information.\\nyes, you can get coverage for your family members by adding them to your policy. please contact our customer service for more information.\\nto renew your health insurance policy, please log into your account on our website and follow the renewal instructions. you can also call our customer service for assistance.\\nyou can get a health insurance quote by visiting our website and filling out the quote form. you can also call our customer service for assistance.\\nthe waiting period for maternity coverage varies depending on your policy. please refer to your policy documents or contact our customer service for specific information.\\ncoverage for dental expenses varies depending on your policy. please refer to your policy documents or contact our customer service for specific information.\\nto file a travel insurance claim, please visit our website and fill out the claim form. you can also call our customer service for assistance.\\ntravel insurance typically covers trip cancellations, medical emergencies, lost luggage, and other travel-related issues. please refer to your policy documents for specific coverage details.\\nyes, you can extend your travel insurance policy by contacting our customer service before your current policy expires.\\nto cancel your travel insurance policy, please contact our customer service. cancellation fees may apply depending on the terms of your policy.\\nyou can get a travel insurance quote by visiting our website and filling out the quote form. you can also call our customer service for assistance.\\ncoverage for trip cancellations varies depending on your policy. please refer to your policy documents or contact our customer service for specific information.\\nyes, travel insurance typically covers lost luggage. please refer to your policy documents for specific coverage details.\\nto file a home insurance claim, please visit our website and fill out the claim form. you can also call our customer service for assistance.\\nhome insurance typically covers damage to your home and personal property, as well as liability for accidents that occur on your property. please refer to your policy documents for specific coverage details.\\ncoverage for natural disasters varies depending on your policy. please refer to your policy documents or contact our customer service for specific information.\\nto renew your home insurance policy, please log into your account on our website and follow the renewal instructions. you can also call our customer service for assistance.\\nyou can get a home insurance quote by visiting our website and filling out the quote form. you can also call our customer service for assistance.\\nthe deductible amount for home insurance varies depending on your policy. please refer to your policy documents or contact our customer service for specific information.\\nyes, home insurance typically covers personal belongings. please refer to your policy documents for specific coverage details.\\nto file an auto insurance claim, please visit our website and fill out the claim form. you can also call our customer service for assistance.\\nauto insurance typically covers damage to your vehicle, liability for accidents, and medical expenses. please refer to your policy documents for specific coverage details.\\nyes, auto insurance can cover rental cars. please refer to your policy documents or contact our customer service for specific information.\\nto renew your auto insurance policy, please log into your account on our website and follow the renewal instructions. you can also call our customer service for assistance.\\nyou can get an auto insurance quote by visiting our website and filling out the quote form. you can also call our customer service for assistance.\\nthe deductible amount for auto insurance varies depending on your policy. please refer to your policy documents or contact our customer service for specific information.\\nyes, auto insurance can cover uninsured motorists. please refer to your policy documents or contact our customer service for specific information.\\nto add a driver to your auto insurance policy, please log into your account on our website and update the driver information. you can also contact our customer service for assistance.\\nyou may be eligible for a discount on your auto insurance premium based on factors such as your driving record, vehicle safety features, and policy type. please contact our customer service for more information.\\nyour policy number can be found on your policy documents or by logging into your account on our website. you can also contact our customer service for assistance.\\nyes, you can request a duplicate copy of your auto insurance policy by logging into your account on our website or by contacting our customer service.\\nto change your auto insurance coverage, please log into your account on our website and update the coverage details. you can also contact our customer service for assistance.\\nyou can get a list of preferred repair shops by visiting our website or by contacting our customer service.\\nto file a life insurance claim, please visit our website and fill out the claim form. you can also call our customer service for assistance.\\nlife insurance provides a death benefit to your beneficiaries in the event of your passing. please refer to your policy documents for specific coverage details.\\nyes, life insurance can include coverage for critical illness. please refer to your policy documents or contact our customer service for specific information.\\nto renew your life insurance policy, please log into your account on our website and follow the renewal instructions. you can also call our customer service for assistance.\\nyou can get a life insurance quote by visiting our website and filling out the quote form. you can also call our customer service for assistance.\\nthe waiting period for life insurance varies depending on your policy. please refer to your policy documents or contact our customer service for specific information.\\nyes, life insurance can include coverage for accidental death. please refer to your policy documents or contact our customer service for specific information.\\nto add a rider to your life insurance policy, please log into your account on our website and select the desired rider. you can also contact our customer service for assistance.\\nyou may be eligible for a discount on your life insurance premium based on factors such as your age, health, and policy type. please contact our customer service for more information.\\nyour policy number can be found on your policy documents or by logging into your account on our website. you can also contact our customer service for assistance.\\nyes, you can request a duplicate copy of your life insurance policy by logging into your account on our website or by contacting our customer service.\\nto change your life insurance coverage, please log into your account on our website and update the coverage details. you can also contact our customer service for assistance.\\nyou can get a list of network hospitals by visiting our website or by contacting our customer service.\\nto file a health insurance claim, please visit our website and fill out the claim form. you can also call our customer service for assistance.\\ncoverage for pre-existing conditions varies depending on your policy. please refer to your policy documents or contact our customer service for specific information.\\nyes, you can get coverage for your family members by adding them to your policy. please contact our customer service for more information.\\nto renew your health insurance policy, please log into your account on our website and follow the renewal instructions. you can also call our customer service for assistance.\\nyou can get a health insurance quote by visiting our website and filling out the quote form. you can also call our customer service for assistance.\\nthe waiting period for maternity coverage varies depending on your policy. please refer to your policy documents or contact our customer service for specific information.\\ncoverage for dental expenses varies depending on your policy. please refer to your policy documents or contact our customer service for specific information.\\nto file a travel insurance claim, please visit our website and fill out the claim form. you can also call our customer service for assistance.\\ntravel insurance typically covers trip cancellations, medical emergencies, lost luggage, and other travel-related issues. please refer to your policy documents for specific coverage details.\\nyes, you can extend your travel insurance policy by contacting our customer service before your current policy expires.\\nto cancel your travel insurance policy, please contact our customer service. cancellation fees may apply depending on the terms of your policy.\\nyou can get a travel insurance quote by visiting our website and filling out the quote form. you can also call our customer service for assistance.\\ncoverage for trip cancellations varies depending on your policy. please refer to your policy documents or contact our customer service for specific information.\\nyes, travel insurance typically covers lost luggage. please refer to your policy documents for specific coverage details.\\nto file a home insurance claim, please visit our website and fill out the claim form. you can also call our customer service for assistance.\\nhome insurance typically covers damage to your home and personal property, as well as liability for accidents that occur on your property. please refer to your policy documents for specific coverage details.\\ncoverage for natural disasters varies depending on your policy. please refer to your policy documents or contact our customer service for specific information.\\nto renew your home insurance policy, please log into your account on our website and follow the renewal instructions. you can also call our customer service for assistance.\\nyou can get a home insurance quote by visiting our website and filling out the quote form. you can also call our customer service for assistance.\\nthe deductible amount for home insurance varies depending on your policy. please refer to your policy documents or contact our customer service for specific information.\\nyes, home insurance typically covers personal belongings. please refer to your policy documents for specific coverage details.\\nto file an auto insurance claim, please visit our website and fill out the claim form. you can also call our customer service for assistance.\\nauto insurance typically covers damage to your vehicle, liability for accidents, and medical expenses. please refer to your policy documents for specific coverage details.\\nyes, auto insurance can cover rental cars. please refer to your policy documents or contact our customer service for specific information.\\nto renew your auto insurance policy, please log into your account on our website and follow the renewal instructions. you can also call our customer service for assistance.\\nyou can get an auto insurance quote by visiting our website and filling out the quote form. you can also call our customer service for assistance.\\nthe deductible amount for auto insurance varies depending on your policy. please refer to your policy documents or contact our customer service for specific information.\\nyes, auto insurance can cover uninsured motorists. please refer to your policy documents or contact our customer service for specific information.\\nto add a driver to your auto insurance policy, please log into your account on our website and update the driver information. you can also contact our customer service for assistance.\\nyou may be eligible for a discount on your auto insurance premium based on factors such as your driving record, vehicle safety features, and policy type. please contact our customer service for more information.\\nyour policy number can be found on your policy documents or by logging into your account on our website. you can also contact our customer service for assistance.\\nyes, you can request a duplicate copy of your auto insurance policy by logging into your account on our website or by contacting our customer service.\\nto change your auto insurance coverage, please log into your account on our website and update the coverage details. you can also contact our customer service for assistance.\\nyou can get a list of preferred repair shops by visiting our website or by contacting our customer service.\\nto file a life insurance claim, please visit our website and fill out the claim form. you can also call our customer service for assistance.\\nlife insurance provides a death benefit to your beneficiaries in the event of your passing. please refer to your policy documents for specific coverage details.\\nyes, life insurance can include coverage for critical illness. please refer to your policy documents or contact our customer service for specific information.\\nto renew your life insurance policy, please log into your account on our website and follow the renewal instructions. you can also call our customer service for assistance.\\nyou can get a life insurance quote by visiting our website and filling out the quote form. you can also call our customer service for assistance.\\nthe waiting period for life insurance varies depending on your policy. please refer to your policy documents or contact our customer service for specific information.\\nyes, life insurance can include coverage for accidental death. please refer to your policy documents or contact our customer service for specific information.\\nto add a rider to your life insurance policy, please log into your account on our website and select the desired rider. you can also contact our customer service for assistance.\\n'"
      ]
     },
     "execution_count": 8,
     "metadata": {},
     "output_type": "execute_result"
    }
   ],
   "source": [
    "doc"
   ]
  },
  {
   "cell_type": "code",
   "execution_count": 9,
   "id": "08b34206-9b23-4d42-8133-60fc265a8c4b",
   "metadata": {},
   "outputs": [
    {
     "data": {
      "text/plain": [
       "['to file a claim, please visit our website and fill out the claim form.',\n",
       " 'you can also call our customer service for assistance.',\n",
       " 'you can check the status of your claim by logging into your account on our website or by calling our customer service.',\n",
       " 'the required documents to file a claim include your policy number, a completed claim form, and any relevant supporting documents such as medical reports or police reports.',\n",
       " 'the processing time for a claim varies depending on the complexity of the case.',\n",
       " 'generally, it takes about 7-10 business days.',\n",
       " 'yes, you can file a claim online by visiting our website and filling out the claim form.',\n",
       " 'our customer service number is 1-800-123-4567. we are available 24/7 to assist you.',\n",
       " 'you can update your contact information by logging into your account on our website or by calling our customer service.',\n",
       " 'to renew your policy, please log into your account on our website and follow the renewal instructions.',\n",
       " 'you can also call our customer service for assistance.',\n",
       " 'yes, you can cancel your policy by contacting our customer service.',\n",
       " 'please note that cancellation fees may apply.',\n",
       " 'the grace period for premium payment is 30 days from the due date.',\n",
       " 'during this period, your policy remains active.',\n",
       " 'you can make a premium payment online through our website, by phone, or by mailing a check to our office.',\n",
       " 'coverage details vary depending on your policy.',\n",
       " 'please refer to your policy documents or contact our customer service for specific coverage information.',\n",
       " 'you can download a copy of your policy documents by logging into your account on our website or by contacting our customer service.',\n",
       " 'the deductible amount varies depending on your policy.',\n",
       " 'please refer to your policy documents or contact our customer service for specific information.',\n",
       " 'yes, you can add a beneficiary to your policy by logging into your account on our website or by contacting our customer service.',\n",
       " 'to change your beneficiary, please log into your account on our website and update the beneficiary information.',\n",
       " 'you can also contact our customer service for assistance.',\n",
       " 'you can get a quote for a new policy by visiting our website and filling out the quote form.',\n",
       " 'you can also call our customer service for assistance.',\n",
       " 'term life insurance provides coverage for a specific period, while whole life insurance provides coverage for your entire life.',\n",
       " 'whole life insurance also has a cash value component.',\n",
       " 'yes, you can convert your term policy to a whole life policy.',\n",
       " 'please contact our customer service for more information on the conversion process.',\n",
       " 'the cash value of your whole life policy depends on the premiums paid and the duration of the policy.',\n",
       " 'please refer to your policy documents or contact our customer service for specific information.',\n",
       " 'you can access the cash value of your policy by taking a policy loan or by making a withdrawal.',\n",
       " 'please contact our customer service for more information.',\n",
       " 'the surrender value of your policy is the amount you will receive if you cancel your policy before it matures.',\n",
       " 'please refer to your policy documents or contact our customer service for specific information.',\n",
       " 'yes, you can reinstate a lapsed policy within a certain period by paying the overdue premiums and providing evidence of insurability.',\n",
       " 'please contact our customer service for more information.',\n",
       " 'to file a complaint, please contact our customer service and provide details of your complaint.',\n",
       " 'we will investigate the matter and get back to you as soon as possible.',\n",
       " 'you can contact the claims department by calling our customer service number or by emailing claims@insurancecompany.com.',\n",
       " 'the waiting period for your policy varies depending on the type of coverage.',\n",
       " 'please refer to your policy documents or contact our customer service for specific information.',\n",
       " 'yes, you can change your payment method by logging into your account on our website or by contacting our customer service.',\n",
       " 'to update your policy information, please log into your account on our website and make the necessary changes.',\n",
       " 'you can also contact our customer service for assistance.',\n",
       " 'to request a refund for your premium payment, please contact our customer service.',\n",
       " 'refunds are subject to the terms and conditions of your policy.',\n",
       " 'the policy term for your insurance varies depending on the type of coverage.',\n",
       " 'please refer to your policy documents or contact our customer service for specific information.',\n",
       " 'yes, you can transfer your policy to another person by completing a policy transfer form.',\n",
       " 'please contact our customer service for more information.',\n",
       " 'to add a rider to your policy, please log into your account on our website and select the desired rider.',\n",
       " 'you can also contact our customer service for assistance.',\n",
       " 'you may be eligible for a discount on your premium based on factors such as your age, health, and policy type.',\n",
       " 'please contact our customer service for more information.',\n",
       " 'your policy number can be found on your policy documents or by logging into your account on our website.',\n",
       " 'you can also contact our customer service for assistance.',\n",
       " 'yes, you can request a duplicate copy of your policy by logging into your account on our website or by contacting our customer service.',\n",
       " 'to change your policy coverage, please log into your account on our website and update the coverage details.',\n",
       " 'you can also contact our customer service for assistance.',\n",
       " 'you can get a list of network hospitals by visiting our website or by contacting our customer service.',\n",
       " 'to file a health insurance claim, please visit our website and fill out the claim form.',\n",
       " 'you can also call our customer service for assistance.',\n",
       " 'coverage for pre-existing conditions varies depending on your policy.',\n",
       " 'please refer to your policy documents or contact our customer service for specific information.',\n",
       " 'yes, you can get coverage for your family members by adding them to your policy.',\n",
       " 'please contact our customer service for more information.',\n",
       " 'to renew your health insurance policy, please log into your account on our website and follow the renewal instructions.',\n",
       " 'you can also call our customer service for assistance.',\n",
       " 'you can get a health insurance quote by visiting our website and filling out the quote form.',\n",
       " 'you can also call our customer service for assistance.',\n",
       " 'the waiting period for maternity coverage varies depending on your policy.',\n",
       " 'please refer to your policy documents or contact our customer service for specific information.',\n",
       " 'coverage for dental expenses varies depending on your policy.',\n",
       " 'please refer to your policy documents or contact our customer service for specific information.',\n",
       " 'to file a travel insurance claim, please visit our website and fill out the claim form.',\n",
       " 'you can also call our customer service for assistance.',\n",
       " 'travel insurance typically covers trip cancellations, medical emergencies, lost luggage, and other travel-related issues.',\n",
       " 'please refer to your policy documents for specific coverage details.',\n",
       " 'yes, you can extend your travel insurance policy by contacting our customer service before your current policy expires.',\n",
       " 'to cancel your travel insurance policy, please contact our customer service.',\n",
       " 'cancellation fees may apply depending on the terms of your policy.',\n",
       " 'you can get a travel insurance quote by visiting our website and filling out the quote form.',\n",
       " 'you can also call our customer service for assistance.',\n",
       " 'coverage for trip cancellations varies depending on your policy.',\n",
       " 'please refer to your policy documents or contact our customer service for specific information.',\n",
       " 'yes, travel insurance typically covers lost luggage.',\n",
       " 'please refer to your policy documents for specific coverage details.',\n",
       " 'to file a home insurance claim, please visit our website and fill out the claim form.',\n",
       " 'you can also call our customer service for assistance.',\n",
       " 'home insurance typically covers damage to your home and personal property, as well as liability for accidents that occur on your property.',\n",
       " 'please refer to your policy documents for specific coverage details.',\n",
       " 'coverage for natural disasters varies depending on your policy.',\n",
       " 'please refer to your policy documents or contact our customer service for specific information.',\n",
       " 'to renew your home insurance policy, please log into your account on our website and follow the renewal instructions.',\n",
       " 'you can also call our customer service for assistance.',\n",
       " 'you can get a home insurance quote by visiting our website and filling out the quote form.',\n",
       " 'you can also call our customer service for assistance.',\n",
       " 'the deductible amount for home insurance varies depending on your policy.',\n",
       " 'please refer to your policy documents or contact our customer service for specific information.',\n",
       " 'yes, home insurance typically covers personal belongings.',\n",
       " 'please refer to your policy documents for specific coverage details.',\n",
       " 'to file an auto insurance claim, please visit our website and fill out the claim form.',\n",
       " 'you can also call our customer service for assistance.',\n",
       " 'auto insurance typically covers damage to your vehicle, liability for accidents, and medical expenses.',\n",
       " 'please refer to your policy documents for specific coverage details.',\n",
       " 'yes, auto insurance can cover rental cars.',\n",
       " 'please refer to your policy documents or contact our customer service for specific information.',\n",
       " 'to renew your auto insurance policy, please log into your account on our website and follow the renewal instructions.',\n",
       " 'you can also call our customer service for assistance.',\n",
       " 'you can get an auto insurance quote by visiting our website and filling out the quote form.',\n",
       " 'you can also call our customer service for assistance.',\n",
       " 'the deductible amount for auto insurance varies depending on your policy.',\n",
       " 'please refer to your policy documents or contact our customer service for specific information.',\n",
       " 'yes, auto insurance can cover uninsured motorists.',\n",
       " 'please refer to your policy documents or contact our customer service for specific information.',\n",
       " 'to add a driver to your auto insurance policy, please log into your account on our website and update the driver information.',\n",
       " 'you can also contact our customer service for assistance.',\n",
       " 'you may be eligible for a discount on your auto insurance premium based on factors such as your driving record, vehicle safety features, and policy type.',\n",
       " 'please contact our customer service for more information.',\n",
       " 'your policy number can be found on your policy documents or by logging into your account on our website.',\n",
       " 'you can also contact our customer service for assistance.',\n",
       " 'yes, you can request a duplicate copy of your auto insurance policy by logging into your account on our website or by contacting our customer service.',\n",
       " 'to change your auto insurance coverage, please log into your account on our website and update the coverage details.',\n",
       " 'you can also contact our customer service for assistance.',\n",
       " 'you can get a list of preferred repair shops by visiting our website or by contacting our customer service.',\n",
       " 'to file a life insurance claim, please visit our website and fill out the claim form.',\n",
       " 'you can also call our customer service for assistance.',\n",
       " 'life insurance provides a death benefit to your beneficiaries in the event of your passing.',\n",
       " 'please refer to your policy documents for specific coverage details.',\n",
       " 'yes, life insurance can include coverage for critical illness.',\n",
       " 'please refer to your policy documents or contact our customer service for specific information.',\n",
       " 'to renew your life insurance policy, please log into your account on our website and follow the renewal instructions.',\n",
       " 'you can also call our customer service for assistance.',\n",
       " 'you can get a life insurance quote by visiting our website and filling out the quote form.',\n",
       " 'you can also call our customer service for assistance.',\n",
       " 'the waiting period for life insurance varies depending on your policy.',\n",
       " 'please refer to your policy documents or contact our customer service for specific information.',\n",
       " 'yes, life insurance can include coverage for accidental death.',\n",
       " 'please refer to your policy documents or contact our customer service for specific information.',\n",
       " 'to add a rider to your life insurance policy, please log into your account on our website and select the desired rider.',\n",
       " 'you can also contact our customer service for assistance.',\n",
       " 'you may be eligible for a discount on your life insurance premium based on factors such as your age, health, and policy type.',\n",
       " 'please contact our customer service for more information.',\n",
       " 'your policy number can be found on your policy documents or by logging into your account on our website.',\n",
       " 'you can also contact our customer service for assistance.',\n",
       " 'yes, you can request a duplicate copy of your life insurance policy by logging into your account on our website or by contacting our customer service.',\n",
       " 'to change your life insurance coverage, please log into your account on our website and update the coverage details.',\n",
       " 'you can also contact our customer service for assistance.',\n",
       " 'you can get a list of network hospitals by visiting our website or by contacting our customer service.',\n",
       " 'to file a health insurance claim, please visit our website and fill out the claim form.',\n",
       " 'you can also call our customer service for assistance.',\n",
       " 'coverage for pre-existing conditions varies depending on your policy.',\n",
       " 'please refer to your policy documents or contact our customer service for specific information.',\n",
       " 'yes, you can get coverage for your family members by adding them to your policy.',\n",
       " 'please contact our customer service for more information.',\n",
       " 'to renew your health insurance policy, please log into your account on our website and follow the renewal instructions.',\n",
       " 'you can also call our customer service for assistance.',\n",
       " 'you can get a health insurance quote by visiting our website and filling out the quote form.',\n",
       " 'you can also call our customer service for assistance.',\n",
       " 'the waiting period for maternity coverage varies depending on your policy.',\n",
       " 'please refer to your policy documents or contact our customer service for specific information.',\n",
       " 'coverage for dental expenses varies depending on your policy.',\n",
       " 'please refer to your policy documents or contact our customer service for specific information.',\n",
       " 'to file a travel insurance claim, please visit our website and fill out the claim form.',\n",
       " 'you can also call our customer service for assistance.',\n",
       " 'travel insurance typically covers trip cancellations, medical emergencies, lost luggage, and other travel-related issues.',\n",
       " 'please refer to your policy documents for specific coverage details.',\n",
       " 'yes, you can extend your travel insurance policy by contacting our customer service before your current policy expires.',\n",
       " 'to cancel your travel insurance policy, please contact our customer service.',\n",
       " 'cancellation fees may apply depending on the terms of your policy.',\n",
       " 'you can get a travel insurance quote by visiting our website and filling out the quote form.',\n",
       " 'you can also call our customer service for assistance.',\n",
       " 'coverage for trip cancellations varies depending on your policy.',\n",
       " 'please refer to your policy documents or contact our customer service for specific information.',\n",
       " 'yes, travel insurance typically covers lost luggage.',\n",
       " 'please refer to your policy documents for specific coverage details.',\n",
       " 'to file a home insurance claim, please visit our website and fill out the claim form.',\n",
       " 'you can also call our customer service for assistance.',\n",
       " 'home insurance typically covers damage to your home and personal property, as well as liability for accidents that occur on your property.',\n",
       " 'please refer to your policy documents for specific coverage details.',\n",
       " 'coverage for natural disasters varies depending on your policy.',\n",
       " 'please refer to your policy documents or contact our customer service for specific information.',\n",
       " 'to renew your home insurance policy, please log into your account on our website and follow the renewal instructions.',\n",
       " 'you can also call our customer service for assistance.',\n",
       " 'you can get a home insurance quote by visiting our website and filling out the quote form.',\n",
       " 'you can also call our customer service for assistance.',\n",
       " 'the deductible amount for home insurance varies depending on your policy.',\n",
       " 'please refer to your policy documents or contact our customer service for specific information.',\n",
       " 'yes, home insurance typically covers personal belongings.',\n",
       " 'please refer to your policy documents for specific coverage details.',\n",
       " 'to file an auto insurance claim, please visit our website and fill out the claim form.',\n",
       " 'you can also call our customer service for assistance.',\n",
       " 'auto insurance typically covers damage to your vehicle, liability for accidents, and medical expenses.',\n",
       " 'please refer to your policy documents for specific coverage details.',\n",
       " 'yes, auto insurance can cover rental cars.',\n",
       " 'please refer to your policy documents or contact our customer service for specific information.',\n",
       " 'to renew your auto insurance policy, please log into your account on our website and follow the renewal instructions.',\n",
       " 'you can also call our customer service for assistance.',\n",
       " 'you can get an auto insurance quote by visiting our website and filling out the quote form.',\n",
       " 'you can also call our customer service for assistance.',\n",
       " 'the deductible amount for auto insurance varies depending on your policy.',\n",
       " 'please refer to your policy documents or contact our customer service for specific information.',\n",
       " 'yes, auto insurance can cover uninsured motorists.',\n",
       " 'please refer to your policy documents or contact our customer service for specific information.',\n",
       " 'to add a driver to your auto insurance policy, please log into your account on our website and update the driver information.',\n",
       " 'you can also contact our customer service for assistance.',\n",
       " 'you may be eligible for a discount on your auto insurance premium based on factors such as your driving record, vehicle safety features, and policy type.',\n",
       " 'please contact our customer service for more information.',\n",
       " 'your policy number can be found on your policy documents or by logging into your account on our website.',\n",
       " 'you can also contact our customer service for assistance.',\n",
       " 'yes, you can request a duplicate copy of your auto insurance policy by logging into your account on our website or by contacting our customer service.',\n",
       " 'to change your auto insurance coverage, please log into your account on our website and update the coverage details.',\n",
       " 'you can also contact our customer service for assistance.',\n",
       " 'you can get a list of preferred repair shops by visiting our website or by contacting our customer service.',\n",
       " 'to file a life insurance claim, please visit our website and fill out the claim form.',\n",
       " 'you can also call our customer service for assistance.',\n",
       " 'life insurance provides a death benefit to your beneficiaries in the event of your passing.',\n",
       " 'please refer to your policy documents for specific coverage details.',\n",
       " 'yes, life insurance can include coverage for critical illness.',\n",
       " 'please refer to your policy documents or contact our customer service for specific information.',\n",
       " 'to renew your life insurance policy, please log into your account on our website and follow the renewal instructions.',\n",
       " 'you can also call our customer service for assistance.',\n",
       " 'you can get a life insurance quote by visiting our website and filling out the quote form.',\n",
       " 'you can also call our customer service for assistance.',\n",
       " 'the waiting period for life insurance varies depending on your policy.',\n",
       " 'please refer to your policy documents or contact our customer service for specific information.',\n",
       " 'yes, life insurance can include coverage for accidental death.',\n",
       " 'please refer to your policy documents or contact our customer service for specific information.',\n",
       " 'to add a rider to your life insurance policy, please log into your account on our website and select the desired rider.',\n",
       " 'you can also contact our customer service for assistance.']"
      ]
     },
     "execution_count": 9,
     "metadata": {},
     "output_type": "execute_result"
    }
   ],
   "source": [
    "sentence_tokens"
   ]
  },
  {
   "cell_type": "code",
   "execution_count": 27,
   "id": "8e5c816e-d8b1-4f79-8581-6b44e17e64d3",
   "metadata": {},
   "outputs": [],
   "source": [
    "lemmer = nltk.stem.WordNetLemmatizer()\n",
    "def LemTokens(tokens):\n",
    "    return [lemmer.lemmatize(token) for token in tokens]\n",
    "remove_punc_dist = dict((ord(punct),None) for punct in string.punctuation)\n",
    "def LemNormalize(text):\n",
    "    return LemTokens(nltk.word_tokenize(text.lower().translate(remove_punc_dist)))"
   ]
  },
  {
   "cell_type": "code",
   "execution_count": 28,
   "id": "61e86d40-31b5-42a4-bae9-95cb1f3044af",
   "metadata": {},
   "outputs": [],
   "source": [
    "greet_inputs = ('hello','hi','whassup','how are you?')\n",
    "greet_responses = ('hi','Hey','Hey There!','There there!!')\n",
    "def greet(sentence):\n",
    "    for word in sentence.split():\n",
    "        if word.lower() in greet_inputs:\n",
    "            return random.choice(greet_responses)"
   ]
  },
  {
   "cell_type": "code",
   "execution_count": 29,
   "id": "8199ab03-1e1e-4663-b7a0-2653de90ff6a",
   "metadata": {},
   "outputs": [],
   "source": [
    "from sklearn.feature_extraction.text import TfidfVectorizer\n",
    "from sklearn.metrics.pairwise import cosine_similarity"
   ]
  },
  {
   "cell_type": "code",
   "execution_count": 30,
   "id": "a2579d1c-3287-4c82-b191-9e916fafca7f",
   "metadata": {},
   "outputs": [],
   "source": [
    "def response(user_response):\n",
    "    robo1_response = ' ' \n",
    "    TfidVec = TfidfVectorizer(tokenizer = LemNormalize,stop_words = 'english')\n",
    "    tfidf = TfidVec.fit_transform(sentence_tokens)\n",
    "    vals = cosine_similarity(tfidf[-1],tfidf)\n",
    "    idx = vals.argsort()[0][-2]\n",
    "    flat = vals.flatten()\n",
    "    flat.sort()\n",
    "    req_tfidf = flat[-2]\n",
    "    if(req_tfidf ==0):\n",
    "        robo1_response = robo1_response + 'I am sorry.Unable to understand you!'\n",
    "    else:\n",
    "        robo1_response = robo1_response + sentence_tokens[idx]\n",
    "        return robo1_response"
   ]
  },
  {
   "cell_type": "code",
   "execution_count": 32,
   "id": "1cc6d81f-7997-46eb-acc7-4c577a5cbb97",
   "metadata": {},
   "outputs": [
    {
     "name": "stdout",
     "output_type": "stream",
     "text": [
      "Hello! I am the Customer bot . Start typing your text after greeting to talk to me. For ending convo type bye!\n"
     ]
    },
    {
     "name": "stdin",
     "output_type": "stream",
     "text": [
      " Hello\n"
     ]
    },
    {
     "name": "stdout",
     "output_type": "stream",
     "text": [
      "Bot Hey\n"
     ]
    },
    {
     "name": "stdin",
     "output_type": "stream",
     "text": [
      " How can I update my contact information?\n"
     ]
    },
    {
     "name": "stdout",
     "output_type": "stream",
     "text": [
      "Bot   you can update your contact information by logging into your account on our website or by calling our customer service.\n"
     ]
    },
    {
     "name": "stdin",
     "output_type": "stream",
     "text": [
      " how can i find my policy id?\n"
     ]
    },
    {
     "name": "stdout",
     "output_type": "stream",
     "text": [
      "Bot   your policy number can be found on your policy documents or by logging into your account on our website.\n"
     ]
    },
    {
     "name": "stdin",
     "output_type": "stream",
     "text": [
      " can i reinstate policy\n"
     ]
    },
    {
     "name": "stdout",
     "output_type": "stream",
     "text": [
      "Bot   yes, you can reinstate a lapsed policy within a certain period by paying the overdue premiums and providing evidence of insurability.\n"
     ]
    },
    {
     "name": "stdin",
     "output_type": "stream",
     "text": [
      " bye\n"
     ]
    },
    {
     "name": "stdout",
     "output_type": "stream",
     "text": [
      "Bot : Goodbye!\n"
     ]
    }
   ],
   "source": [
    "flag = True \n",
    "print('Hello! I am the Customer bot . Start typing your querries after greeting to talk to me. For ending conversation  type bye!')\n",
    "while(flag == True):\n",
    "    user_response = input()\n",
    "    user_response = user_response.lower()\n",
    "    if(user_response != 'bye'):\n",
    "        if(user_response == 'thank you' or user_response == 'thanks'):\n",
    "            flag = False\n",
    "            print('Bot: You are Welcome..')\n",
    "        else:\n",
    "         if(greet(user_response) != None):\n",
    "             print('Bot '+ greet(user_response))\n",
    "         else:\n",
    "             sentence_tokens.append(user_response)\n",
    "             word_tokens = word_tokens + nltk.word_tokenize(user_response)\n",
    "             final_words = list(set(word_tokens))\n",
    "             print('Bot ',end=' ' )\n",
    "             print(response(user_response))\n",
    "             sentence_tokens.remove(user_response)\n",
    "    else:\n",
    "     flag = False\n",
    "     print('Bot : bye,Have a great day!! ')\n",
    "           "
   ]
  },
  {
   "cell_type": "code",
   "execution_count": null,
   "id": "92bc898a-8dab-45cf-b2f9-1c3b5556f7f4",
   "metadata": {},
   "outputs": [],
   "source": []
  }
 ],
 "metadata": {
  "kernelspec": {
   "display_name": "Python 3 (ipykernel)",
   "language": "python",
   "name": "python3"
  },
  "language_info": {
   "codemirror_mode": {
    "name": "ipython",
    "version": 3
   },
   "file_extension": ".py",
   "mimetype": "text/x-python",
   "name": "python",
   "nbconvert_exporter": "python",
   "pygments_lexer": "ipython3",
   "version": "3.11.7"
  }
 },
 "nbformat": 4,
 "nbformat_minor": 5
}
